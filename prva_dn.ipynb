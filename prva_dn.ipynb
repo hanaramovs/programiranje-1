{
 "cells": [
  {
   "cell_type": "markdown",
   "metadata": {},
   "source": [
    "## Rešitve prve domače naloge pri programiranju 1"
   ]
  },
  {
   "cell_type": "markdown",
   "metadata": {},
   "source": [
    "### OGREVANJE"
   ]
  },
  {
   "cell_type": "markdown",
   "metadata": {},
   "source": [
    "1.1 števke"
   ]
  },
  {
   "cell_type": "code",
   "execution_count": 691,
   "metadata": {
    "vscode": {
     "languageId": "ocaml"
    }
   },
   "outputs": [
    {
     "data": {
      "text/plain": [
       "val stevke' : int -> int -> int list = <fun>\n"
      ]
     },
     "execution_count": 691,
     "metadata": {},
     "output_type": "execute_result"
    }
   ],
   "source": [
    "let rec stevke' b n = \n",
    "    match n with\n",
    "    | 0 -> (n mod b) :: []\n",
    "    | _ -> ((n mod b) :: (stevke' b (n / b)))"
   ]
  },
  {
   "cell_type": "code",
   "execution_count": 730,
   "metadata": {
    "vscode": {
     "languageId": "ocaml"
    }
   },
   "outputs": [
    {
     "data": {
      "text/plain": [
       "val stevke : int -> int -> int list = <fun>\n"
      ]
     },
     "execution_count": 730,
     "metadata": {},
     "output_type": "execute_result"
    }
   ],
   "source": [
    "let stevke b n =\n",
    "    let rec stevke_aux b n sez =\n",
    "        match n with\n",
    "        | 0 -> n mod b :: sez\n",
    "        | n -> (stevke_aux b (n / b)) (n mod b :: sez)\n",
    "    in\n",
    "    stevke_aux b n []"
   ]
  },
  {
   "cell_type": "markdown",
   "metadata": {},
   "source": [
    "1.2 take"
   ]
  },
  {
   "cell_type": "code",
   "execution_count": null,
   "metadata": {
    "vscode": {
     "languageId": "ocaml"
    }
   },
   "outputs": [
    {
     "data": {
      "text/plain": [
       "val take : int -> 'a list -> 'a list = <fun>\n"
      ]
     },
     "execution_count": 5,
     "metadata": {},
     "output_type": "execute_result"
    }
   ],
   "source": [
    "let rec take n list =\n",
    "  if n > 0 then \n",
    "    match list with\n",
    "    | head :: tail -> head :: take (n - 1) tail\n",
    "    | [] -> []\n",
    "  else\n",
    "    []"
   ]
  },
  {
   "cell_type": "markdown",
   "metadata": {},
   "source": [
    "1.3 drop while"
   ]
  },
  {
   "cell_type": "code",
   "execution_count": 17,
   "metadata": {
    "vscode": {
     "languageId": "ocaml"
    }
   },
   "outputs": [
    {
     "data": {
      "text/plain": [
       "val drop_while : ('a -> bool) -> 'a list -> 'a list = <fun>\n"
      ]
     },
     "execution_count": 17,
     "metadata": {},
     "output_type": "execute_result"
    }
   ],
   "source": [
    "let rec drop_while condition list =\n",
    "    match list with\n",
    "    |head :: tail -> \n",
    "        if condition head then drop_while condition tail\n",
    "        else list\n",
    "    | [] -> []\n"
   ]
  },
  {
   "cell_type": "markdown",
   "metadata": {},
   "source": [
    "1.4 filter mapi"
   ]
  },
  {
   "cell_type": "code",
   "execution_count": 389,
   "metadata": {
    "vscode": {
     "languageId": "ocaml"
    }
   },
   "outputs": [
    {
     "data": {
      "text/plain": [
       "val filter_mapi : (int -> 'a -> 'a option) -> 'a list -> 'b list = <fun>\n"
      ]
     },
     "execution_count": 389,
     "metadata": {},
     "output_type": "execute_result"
    }
   ],
   "source": [
    "let filter_mapi f list =\n",
    "    let rec aux_mapi f list index =\n",
    "        match list with\n",
    "        | [] -> []\n",
    "        | head :: tail -> \n",
    "            if f index head = Some head then aux_mapi f tail (index + 1)\n",
    "            else []\n",
    "        in aux_mapi f list 0\n"
   ]
  },
  {
   "cell_type": "code",
   "execution_count": 728,
   "metadata": {
    "vscode": {
     "languageId": "ocaml"
    }
   },
   "outputs": [
    {
     "data": {
      "text/plain": [
       "val filter_mapi : (int -> int -> 'a option) -> int list -> 'a option list =\n",
       "  <fun>\n"
      ]
     },
     "execution_count": 728,
     "metadata": {},
     "output_type": "execute_result"
    }
   ],
   "source": [
    "let filter_mapi f list =\n",
    "    let rec aux_mapi f list index =\n",
    "        match list with\n",
    "        | [] -> []\n",
    "        | head :: tail -> begin\n",
    "            match (f index head) with\n",
    "            | None -> (f head index) :: (aux_mapi f tail (index + 1))\n",
    "            | Some head -> (aux_mapi f tail (index + 1))\n",
    "            end\n",
    "    in aux_mapi f list 0"
   ]
  },
  {
   "cell_type": "markdown",
   "metadata": {},
   "source": [
    "### IZOMORFIZMI MNOŽIC"
   ]
  },
  {
   "cell_type": "code",
   "execution_count": 100,
   "metadata": {
    "vscode": {
     "languageId": "ocaml"
    }
   },
   "outputs": [
    {
     "data": {
      "text/plain": [
       "type ('a, 'b) sum = In1 of 'a | In2 of 'b\n"
      ]
     },
     "execution_count": 100,
     "metadata": {},
     "output_type": "execute_result"
    }
   ],
   "source": [
    "type ('a, 'b) sum = In1 of 'a | In2 of 'b"
   ]
  },
  {
   "cell_type": "markdown",
   "metadata": {},
   "source": [
    "1. par"
   ]
  },
  {
   "cell_type": "code",
   "execution_count": 118,
   "metadata": {
    "vscode": {
     "languageId": "ocaml"
    }
   },
   "outputs": [
    {
     "data": {
      "text/plain": [
       "val phi1 : 'a * 'b -> 'b * 'a = <fun>\n"
      ]
     },
     "execution_count": 118,
     "metadata": {},
     "output_type": "execute_result"
    },
    {
     "data": {
      "text/plain": [
       "val psi1 : 'a * 'b -> 'b * 'a = <fun>\n"
      ]
     },
     "execution_count": 118,
     "metadata": {},
     "output_type": "execute_result"
    }
   ],
   "source": [
    "let phi1 = function (x, y) -> (y, x)\n",
    "let psi1 = function (y, x) -> (x, y)"
   ]
  },
  {
   "cell_type": "markdown",
   "metadata": {},
   "source": [
    "2. par"
   ]
  },
  {
   "cell_type": "code",
   "execution_count": 125,
   "metadata": {
    "vscode": {
     "languageId": "ocaml"
    }
   },
   "outputs": [
    {
     "data": {
      "text/plain": [
       "val phi2 : ('a, 'b) sum -> ('b, 'a) sum = <fun>\n"
      ]
     },
     "execution_count": 125,
     "metadata": {},
     "output_type": "execute_result"
    },
    {
     "data": {
      "text/plain": [
       "val psi2 : ('a, 'b) sum -> ('b, 'a) sum = <fun>\n"
      ]
     },
     "execution_count": 125,
     "metadata": {},
     "output_type": "execute_result"
    }
   ],
   "source": [
    "let phi2 = \n",
    "    function \n",
    "    | In1 x -> In2 x\n",
    "    | In2 y -> In1 y\n",
    "\n",
    "let psi2 = \n",
    "    function \n",
    "    | In2 x -> In1 x\n",
    "    | In1 y -> In2 y"
   ]
  },
  {
   "cell_type": "markdown",
   "metadata": {},
   "source": [
    "3. par"
   ]
  },
  {
   "cell_type": "code",
   "execution_count": 123,
   "metadata": {
    "vscode": {
     "languageId": "ocaml"
    }
   },
   "outputs": [
    {
     "data": {
      "text/plain": [
       "val phi3 : 'a * ('b * 'c) -> ('a * 'b) * 'c = <fun>\n"
      ]
     },
     "execution_count": 123,
     "metadata": {},
     "output_type": "execute_result"
    },
    {
     "data": {
      "text/plain": [
       "val psi3 : ('a * 'b) * 'c -> 'a * ('b * 'c) = <fun>\n"
      ]
     },
     "execution_count": 123,
     "metadata": {},
     "output_type": "execute_result"
    }
   ],
   "source": [
    "let phi3 = function (x, (y, z)) -> ((x, y), z)\n",
    "let psi3 = function ((x,y), z) -> (x, (y, z))"
   ]
  },
  {
   "cell_type": "markdown",
   "metadata": {},
   "source": [
    "4. par"
   ]
  },
  {
   "cell_type": "code",
   "execution_count": 127,
   "metadata": {
    "vscode": {
     "languageId": "ocaml"
    }
   },
   "outputs": [
    {
     "data": {
      "text/plain": [
       "val phi4 : ('a, ('b, 'c) sum) sum -> (('a, 'b) sum, 'c) sum = <fun>\n"
      ]
     },
     "execution_count": 127,
     "metadata": {},
     "output_type": "execute_result"
    },
    {
     "data": {
      "text/plain": [
       "val psi4 : (('a, 'b) sum, 'c) sum -> ('a, ('b, 'c) sum) sum = <fun>\n"
      ]
     },
     "execution_count": 127,
     "metadata": {},
     "output_type": "execute_result"
    }
   ],
   "source": [
    "let phi4 = \n",
    "    function\n",
    "    | In1 x -> In1 (In1 x)\n",
    "    | In2 (In1 y) -> In1 (In2 y)\n",
    "    | In2 (In2 z) -> In2 z\n",
    "\n",
    "let psi4 =\n",
    "    function\n",
    "    | In1 (In1 x) -> In1 x\n",
    "    | In1 (In2 y) -> In2 (In1 y)\n",
    "    | In2 z -> In2 (In2 z)\n"
   ]
  },
  {
   "cell_type": "markdown",
   "metadata": {},
   "source": [
    "5. par"
   ]
  },
  {
   "cell_type": "code",
   "execution_count": 130,
   "metadata": {
    "vscode": {
     "languageId": "ocaml"
    }
   },
   "outputs": [
    {
     "data": {
      "text/plain": [
       "val phi5 : 'a * ('b, 'c) sum -> ('a * 'b, 'a * 'c) sum = <fun>\n"
      ]
     },
     "execution_count": 130,
     "metadata": {},
     "output_type": "execute_result"
    },
    {
     "data": {
      "text/plain": [
       "val psi5 : ('a * 'b, 'a * 'c) sum -> 'a * ('b, 'c) sum = <fun>\n"
      ]
     },
     "execution_count": 130,
     "metadata": {},
     "output_type": "execute_result"
    }
   ],
   "source": [
    "let phi5 =\n",
    "    function\n",
    "    | (x, In1 y) -> In1 (x, y)\n",
    "    | (x, In2 z) -> In2 (x, z)\n",
    "\n",
    "let psi5 =\n",
    "    function\n",
    "    | In1 (x,y) -> (x, In1 y)\n",
    "    | In2 (x,z) -> (x, In2 z)"
   ]
  },
  {
   "cell_type": "markdown",
   "metadata": {},
   "source": [
    "6. par"
   ]
  },
  {
   "cell_type": "code",
   "execution_count": 541,
   "metadata": {
    "vscode": {
     "languageId": "ocaml"
    }
   },
   "outputs": [],
   "source": [
    "(* tip phi6 ('a, 'b) sum -> 'c -> ('a -> 'c) * ('b -> 'c)*)\n",
    "(* tip psi6 ('a -> 'c) * ('b -> 'c) -> ('a, 'b) sum -> 'c*)"
   ]
  },
  {
   "cell_type": "code",
   "execution_count": null,
   "metadata": {
    "vscode": {
     "languageId": "ocaml"
    }
   },
   "outputs": [
    {
     "data": {
      "text/plain": [
       "val phi6 : ('a, 'b) sum -> 'c -> 'd -> 'c * ('e -> 'c) = <fun>\n"
      ]
     },
     "execution_count": 589,
     "metadata": {},
     "output_type": "execute_result"
    }
   ],
   "source": [
    "let phi6 = \n",
    "function\n",
    "| In1 x -> fun z -> (fun x -> z, fun y -> z)\n",
    "| In2 y -> fun z -> (fun x -> z, fun y -> z)"
   ]
  },
  {
   "cell_type": "code",
   "execution_count": 630,
   "metadata": {
    "vscode": {
     "languageId": "ocaml"
    }
   },
   "outputs": [
    {
     "data": {
      "text/plain": [
       "val psi6 : ('a -> 'b) * ('c -> 'b) -> ('a, 'c) sum -> 'b = <fun>\n"
      ]
     },
     "execution_count": 630,
     "metadata": {},
     "output_type": "execute_result"
    }
   ],
   "source": [
    "let psi6 = fun (f, g) -> \n",
    "function\n",
    "| In1 x -> f x\n",
    "| In2 y -> g y"
   ]
  },
  {
   "cell_type": "markdown",
   "metadata": {},
   "source": [
    "7. par"
   ]
  },
  {
   "cell_type": "code",
   "execution_count": null,
   "metadata": {
    "vscode": {
     "languageId": "ocaml"
    }
   },
   "outputs": [
    {
     "data": {
      "text/plain": [
       "val phi7 : ('a -> 'b * 'c -> 'd) -> 'a -> 'b * 'c -> 'd = <fun>\n"
      ]
     },
     "execution_count": 192,
     "metadata": {},
     "output_type": "execute_result"
    },
    {
     "data": {
      "text/plain": [
       "val psi7 : ('a * 'b -> 'c) -> 'd -> 'e -> 'a * 'b -> 'c = <fun>\n"
      ]
     },
     "execution_count": 192,
     "metadata": {},
     "output_type": "execute_result"
    }
   ],
   "source": [
    "let phi7 f z = fun (x, y) -> f z (x, y)\n",
    "let psi7 f z = fun z (x, y) -> f (x, y)\n",
    "\n",
    "(* phi in psi bi morali imeti spodnji tipa*)\n",
    "(* tip phi7 ('a -> 'b) * ('a -> 'c) -> 'a -> 'b * 'c = <fun>*)\n",
    "(* tip psi7 ('a -> 'b * 'c) -> ('a -> 'b) * ('a -> 'c) = <fun>*)"
   ]
  },
  {
   "cell_type": "code",
   "execution_count": 669,
   "metadata": {
    "vscode": {
     "languageId": "ocaml"
    }
   },
   "outputs": [
    {
     "data": {
      "text/plain": [
       "val phi7 : ('a -> 'b) * ('a -> 'c) -> 'a -> 'b * 'c = <fun>\n"
      ]
     },
     "execution_count": 669,
     "metadata": {},
     "output_type": "execute_result"
    }
   ],
   "source": [
    "let phi7 = fun (f, g) -> fun x -> (f x, g x)"
   ]
  },
  {
   "cell_type": "code",
   "execution_count": 668,
   "metadata": {
    "vscode": {
     "languageId": "ocaml"
    }
   },
   "outputs": [
    {
     "data": {
      "text/plain": [
       "val psi7 : 'a -> 'b * 'c -> 'd -> 'b * ('e -> 'c) = <fun>\n"
      ]
     },
     "execution_count": 668,
     "metadata": {},
     "output_type": "execute_result"
    }
   ],
   "source": [
    "(*let psi7 = fun (fun x -> (f x, g x)) -> (fun x -> f x, fun x -> g x)*)\n",
    "let psi7 = fun x -> fun (y , z) -> (fun x -> y, fun x -> z)"
   ]
  },
  {
   "cell_type": "markdown",
   "metadata": {},
   "source": [
    "### POLINOMI"
   ]
  },
  {
   "cell_type": "code",
   "execution_count": 187,
   "metadata": {
    "vscode": {
     "languageId": "ocaml"
    }
   },
   "outputs": [
    {
     "data": {
      "text/plain": [
       "type polinom = int list\n"
      ]
     },
     "execution_count": 187,
     "metadata": {},
     "output_type": "execute_result"
    }
   ],
   "source": [
    "type polinom = int list"
   ]
  },
  {
   "cell_type": "markdown",
   "metadata": {},
   "source": [
    "3.1 Odstranjevanje odvečnih ničel"
   ]
  },
  {
   "cell_type": "code",
   "execution_count": 260,
   "metadata": {
    "vscode": {
     "languageId": "ocaml"
    }
   },
   "outputs": [
    {
     "data": {
      "text/plain": [
       "val pocisti : polinom -> polinom = <fun>\n"
      ]
     },
     "execution_count": 260,
     "metadata": {},
     "output_type": "execute_result"
    }
   ],
   "source": [
    "let rec pocisti (polinom : polinom) : polinom =\n",
    "    match polinom with\n",
    "    | [0] -> []\n",
    "    | [] -> []\n",
    "    | head :: tail -> if head <> 0 then head :: (pocisti tail) else []\n"
   ]
  },
  {
   "cell_type": "markdown",
   "metadata": {},
   "source": [
    "3.2 Seštevanje"
   ]
  },
  {
   "cell_type": "code",
   "execution_count": 257,
   "metadata": {
    "vscode": {
     "languageId": "ocaml"
    }
   },
   "outputs": [
    {
     "data": {
      "text/plain": [
       "val ( +++ ) : polinom -> polinom -> polinom = <fun>\n"
      ]
     },
     "execution_count": 257,
     "metadata": {},
     "output_type": "execute_result"
    }
   ],
   "source": [
    "let ( +++ ) (polinom1 : polinom) (polinom2 : polinom) : polinom =\n",
    "    let rec aux polinom1 polinom2=\n",
    "        match polinom1, polinom2 with\n",
    "        | [], [] -> []\n",
    "        | [], head2 :: tail2 -> [head2]\n",
    "        | head1 :: tail1, [] -> [head1]\n",
    "        | head1 :: tail1 , head2 :: tail2 -> (head1 + head2) :: aux tail1 tail2\n",
    "    in aux polinom1 polinom2\n",
    "\n"
   ]
  },
  {
   "cell_type": "markdown",
   "metadata": {},
   "source": [
    "3.3 Množenje"
   ]
  },
  {
   "cell_type": "code",
   "execution_count": 670,
   "metadata": {
    "vscode": {
     "languageId": "ocaml"
    }
   },
   "outputs": [
    {
     "ename": "error",
     "evalue": "compile_error",
     "output_type": "error",
     "traceback": [
      "File \"[670]\", line 4, characters 0-0:\nError: Syntax error\n"
     ]
    }
   ],
   "source": [
    "let ( *** ) (polinom1 : polinom) (polinom2 : polinom) : polinom =\n",
    "    let rec aux \n",
    "    "
   ]
  },
  {
   "cell_type": "markdown",
   "metadata": {},
   "source": [
    "3.4 Izračun vrednosti v točki"
   ]
  },
  {
   "cell_type": "code",
   "execution_count": 329,
   "metadata": {
    "vscode": {
     "languageId": "ocaml"
    }
   },
   "outputs": [
    {
     "data": {
      "text/plain": [
       "val vrednost : polinom -> int -> int = <fun>\n"
      ]
     },
     "execution_count": 329,
     "metadata": {},
     "output_type": "execute_result"
    }
   ],
   "source": [
    "let rec vrednost (polinom : polinom) arg =\n",
    "    match polinom with \n",
    "    | [] -> 0\n",
    "    | head :: tail -> (head) + arg * (vrednost tail arg)\n"
   ]
  },
  {
   "cell_type": "markdown",
   "metadata": {},
   "source": [
    "3.5 Odvajanje"
   ]
  },
  {
   "cell_type": "code",
   "execution_count": 337,
   "metadata": {
    "vscode": {
     "languageId": "ocaml"
    }
   },
   "outputs": [
    {
     "data": {
      "text/plain": [
       "val odvod : polinom -> polinom = <fun>\n"
      ]
     },
     "execution_count": 337,
     "metadata": {},
     "output_type": "execute_result"
    }
   ],
   "source": [
    "let odvod (polinom : polinom) : polinom = \n",
    "    let rec aux polinom acc =\n",
    "        match polinom with\n",
    "        | [] -> []\n",
    "        | head :: tail -> \n",
    "            if (head * acc) <> 0 then (head * acc) :: aux tail (acc + 1) \n",
    "            else aux tail (acc + 1)\n",
    "    in aux polinom 0"
   ]
  },
  {
   "cell_type": "markdown",
   "metadata": {},
   "source": [
    "3.6 Lep izpis"
   ]
  },
  {
   "cell_type": "code",
   "execution_count": 428,
   "metadata": {
    "vscode": {
     "languageId": "ocaml"
    }
   },
   "outputs": [
    {
     "data": {
      "text/plain": [
       "val izpis : polinom -> string = <fun>\n"
      ]
     },
     "execution_count": 428,
     "metadata": {},
     "output_type": "execute_result"
    }
   ],
   "source": [
    "let izpis (polinom : polinom) = \n",
    "    let rec izpis_aux polinom acc =\n",
    "     match polinom with\n",
    "     | [] -> \"0\"\n",
    "     | head :: tail -> \n",
    "        if head = 1 \n",
    "            then \"x^\" ^ (string_of_int acc) ^ \" \" ^ \" + \" ^ (izpis_aux tail (acc + 1) )\n",
    "        else if head = 0 \n",
    "            then \"\" ^ (izpis_aux tail (acc + 1) )\n",
    "        else \"(\" ^ (string_of_int head) ^ \")\" ^ \"x^\" ^ (string_of_int acc) ^ \" \" ^ \" + \" ^ (izpis_aux tail (acc + 1) )\n",
    "     in izpis_aux polinom 0"
   ]
  },
  {
   "cell_type": "code",
   "execution_count": 505,
   "metadata": {
    "vscode": {
     "languageId": "ocaml"
    }
   },
   "outputs": [
    {
     "data": {
      "text/plain": [
       "val izpis' : polinom -> string = <fun>\n"
      ]
     },
     "execution_count": 505,
     "metadata": {},
     "output_type": "execute_result"
    }
   ],
   "source": [
    "let izpis' (polinom : polinom) = \n",
    "    let rec izpis_aux polinom acc =\n",
    "     match polinom with\n",
    "     | [] -> \"\"\n",
    "     | head :: tail -> \n",
    "        if head = 1 \n",
    "            then \"x^\" ^ (string_of_int acc) ^ \" \" ^ (izpis_aux tail (acc + 1) )\n",
    "        else if head = 0 \n",
    "            then \"\" ^ (izpis_aux tail (acc + 1) )\n",
    "        else (string_of_int (Int.abs head)) ^ \"x^\" ^ (string_of_int acc) ^ \" \" ^ (izpis_aux tail (acc + 1) )\n",
    "     in izpis_aux polinom 0"
   ]
  },
  {
   "cell_type": "markdown",
   "metadata": {},
   "source": [
    "### Samodejno odvajanje"
   ]
  },
  {
   "cell_type": "code",
   "execution_count": 326,
   "metadata": {
    "vscode": {
     "languageId": "ocaml"
    }
   },
   "outputs": [
    {
     "data": {
      "text/plain": [
       "type odvedljiva = (float -> float) * (float -> float)\n"
      ]
     },
     "execution_count": 326,
     "metadata": {},
     "output_type": "execute_result"
    }
   ],
   "source": [
    "type odvedljiva = (float -> float) * (float -> float)"
   ]
  },
  {
   "cell_type": "markdown",
   "metadata": {},
   "source": [
    "4.1 Vrednost odvoda"
   ]
  },
  {
   "cell_type": "code",
   "execution_count": 446,
   "metadata": {
    "vscode": {
     "languageId": "ocaml"
    }
   },
   "outputs": [
    {
     "data": {
      "text/plain": [
       "val vrednost : odvedljiva -> float -> float = <fun>\n"
      ]
     },
     "execution_count": 446,
     "metadata": {},
     "output_type": "execute_result"
    }
   ],
   "source": [
    "let vrednost (funkcija : odvedljiva) arg =\n",
    "    match funkcija with\n",
    "    |(funkcija,_) -> funkcija arg"
   ]
  },
  {
   "cell_type": "code",
   "execution_count": 450,
   "metadata": {
    "vscode": {
     "languageId": "ocaml"
    }
   },
   "outputs": [
    {
     "data": {
      "text/plain": [
       "val odvod : odvedljiva -> float -> float = <fun>\n"
      ]
     },
     "execution_count": 450,
     "metadata": {},
     "output_type": "execute_result"
    }
   ],
   "source": [
    "let odvod (funkcija' : odvedljiva) arg =\n",
    "    match funkcija' with\n",
    "    | (_, funkcija') -> funkcija' arg"
   ]
  },
  {
   "cell_type": "markdown",
   "metadata": {},
   "source": [
    "4.2 Osnovne funkcije"
   ]
  },
  {
   "cell_type": "code",
   "execution_count": 515,
   "metadata": {
    "vscode": {
     "languageId": "ocaml"
    }
   },
   "outputs": [
    {
     "data": {
      "text/plain": [
       "val konstanta : float -> odvedljiva = <fun>\n"
      ]
     },
     "execution_count": 515,
     "metadata": {},
     "output_type": "execute_result"
    }
   ],
   "source": [
    "let konstanta c : odvedljiva = ((fun x -> c), (fun x -> 0.))"
   ]
  },
  {
   "cell_type": "code",
   "execution_count": 475,
   "metadata": {
    "vscode": {
     "languageId": "ocaml"
    }
   },
   "outputs": [
    {
     "data": {
      "text/plain": [
       "val identiteta : odvedljiva = (<fun>, <fun>)\n"
      ]
     },
     "execution_count": 475,
     "metadata": {},
     "output_type": "execute_result"
    }
   ],
   "source": [
    "let identiteta : odvedljiva = ((fun x -> x), (fun x -> 1.))"
   ]
  },
  {
   "cell_type": "markdown",
   "metadata": {},
   "source": [
    "4.3 Produkt in kvocient"
   ]
  },
  {
   "cell_type": "code",
   "execution_count": 497,
   "metadata": {
    "vscode": {
     "languageId": "ocaml"
    }
   },
   "outputs": [
    {
     "data": {
      "text/plain": [
       "val ( **. ) : odvedljiva -> odvedljiva -> odvedljiva = <fun>\n"
      ]
     },
     "execution_count": 497,
     "metadata": {},
     "output_type": "execute_result"
    }
   ],
   "source": [
    "let ( **. ) : odvedljiva -> odvedljiva -> odvedljiva =\n",
    "  fun (f, f') (g, g') -> ((fun x -> f x *. g x), (fun x -> (f' x *. g x) +. (f x *. g' x)))"
   ]
  },
  {
   "cell_type": "code",
   "execution_count": 501,
   "metadata": {
    "vscode": {
     "languageId": "ocaml"
    }
   },
   "outputs": [
    {
     "data": {
      "text/plain": [
       "val ( //. ) : odvedljiva -> odvedljiva -> odvedljiva = <fun>\n"
      ]
     },
     "execution_count": 501,
     "metadata": {},
     "output_type": "execute_result"
    }
   ],
   "source": [
    "let ( //. ) : odvedljiva -> odvedljiva -> odvedljiva =\n",
    "    fun (f, f') (g, g') -> ((fun x -> f x /. g x), (fun x -> (((f' x *. g x) -. (f x *. g' x)) /. (g x *. g x))))"
   ]
  },
  {
   "cell_type": "markdown",
   "metadata": {},
   "source": [
    "4.4 Kompozitum"
   ]
  },
  {
   "cell_type": "code",
   "execution_count": 503,
   "metadata": {
    "vscode": {
     "languageId": "ocaml"
    }
   },
   "outputs": [
    {
     "data": {
      "text/plain": [
       "val ( @@. ) : odvedljiva -> odvedljiva -> odvedljiva = <fun>\n"
      ]
     },
     "execution_count": 503,
     "metadata": {},
     "output_type": "execute_result"
    }
   ],
   "source": [
    "let ( @@. ) : odvedljiva -> odvedljiva -> odvedljiva =\n",
    "  fun (f, f') (g, g') -> ((fun x -> f (g x))), (fun x -> (f'(g x) *. g' x))"
   ]
  },
  {
   "cell_type": "markdown",
   "metadata": {},
   "source": [
    "### Substitucijska šifra"
   ]
  },
  {
   "cell_type": "code",
   "execution_count": 504,
   "metadata": {
    "vscode": {
     "languageId": "ocaml"
    }
   },
   "outputs": [
    {
     "data": {
      "text/plain": [
       "val indeks : char -> int = <fun>\n"
      ]
     },
     "execution_count": 504,
     "metadata": {},
     "output_type": "execute_result"
    },
    {
     "data": {
      "text/plain": [
       "val crka : int -> char = <fun>\n"
      ]
     },
     "execution_count": 504,
     "metadata": {},
     "output_type": "execute_result"
    }
   ],
   "source": [
    "let indeks c = Char.code c - Char.code 'A'\n",
    "let crka i = Char.chr (i + Char.code 'A') "
   ]
  },
  {
   "cell_type": "code",
   "execution_count": 517,
   "metadata": {
    "vscode": {
     "languageId": "ocaml"
    }
   },
   "outputs": [
    {
     "data": {
      "text/plain": [
       "- : int = 0\n"
      ]
     },
     "execution_count": 517,
     "metadata": {},
     "output_type": "execute_result"
    }
   ],
   "source": [
    "indeks 'A'"
   ]
  },
  {
   "cell_type": "code",
   "execution_count": 518,
   "metadata": {
    "vscode": {
     "languageId": "ocaml"
    }
   },
   "outputs": [
    {
     "data": {
      "text/plain": [
       "- : int = 12\n"
      ]
     },
     "execution_count": 518,
     "metadata": {},
     "output_type": "execute_result"
    }
   ],
   "source": [
    "indeks 'M'"
   ]
  },
  {
   "cell_type": "code",
   "execution_count": 519,
   "metadata": {
    "vscode": {
     "languageId": "ocaml"
    }
   },
   "outputs": [
    {
     "data": {
      "text/plain": [
       "- : char = 'M'\n"
      ]
     },
     "execution_count": 519,
     "metadata": {},
     "output_type": "execute_result"
    }
   ],
   "source": [
    "crka 12"
   ]
  },
  {
   "cell_type": "markdown",
   "metadata": {},
   "source": [
    "5.1 Šifriranje"
   ]
  },
  {
   "cell_type": "code",
   "execution_count": 536,
   "metadata": {
    "vscode": {
     "languageId": "ocaml"
    }
   },
   "outputs": [
    {
     "data": {
      "text/plain": [
       "val sifriraj : string -> string -> string = <fun>\n"
      ]
     },
     "execution_count": 536,
     "metadata": {},
     "output_type": "execute_result"
    }
   ],
   "source": [
    "let sifriraj kljuc besedilo =\n",
    "   let rec aux i =\n",
    "      Char.escaped (kljuc.[(indeks (besedilo.[i]))]) ^ aux (i + 1)\n",
    "   in aux 0\n",
    "    "
   ]
  },
  {
   "cell_type": "markdown",
   "metadata": {},
   "source": [
    "5.2 Inverzni ključ"
   ]
  },
  {
   "cell_type": "code",
   "execution_count": 539,
   "metadata": {
    "vscode": {
     "languageId": "ocaml"
    }
   },
   "outputs": [
    {
     "data": {
      "text/plain": [
       "val inverz : string -> string = <fun>\n"
      ]
     },
     "execution_count": 539,
     "metadata": {},
     "output_type": "execute_result"
    }
   ],
   "source": [
    "let inverz kljuc = \n",
    "    let rec aux i =\n",
    "        Char.escaped (crka (indeks (kljuc.[i]))) ^ aux (i + 1)\n",
    "    in aux 0"
   ]
  }
 ],
 "metadata": {
  "kernelspec": {
   "display_name": "OCaml 4.14",
   "language": "OCaml",
   "name": "ocaml-jupyter"
  },
  "language_info": {
   "codemirror_mode": "text/x-ocaml",
   "file_extension": ".ml",
   "mimetype": "text/x-ocaml",
   "name": "OCaml",
   "nbconverter_exporter": null,
   "pygments_lexer": "OCaml",
   "version": "4.14.2"
  }
 },
 "nbformat": 4,
 "nbformat_minor": 2
}
